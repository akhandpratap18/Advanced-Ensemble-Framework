{
 "cells": [
  {
   "cell_type": "code",
   "execution_count": 23,
   "id": "72a3be41-227e-4a68-a801-93243ed8fb4a",
   "metadata": {},
   "outputs": [
    {
     "name": "stdout",
     "output_type": "stream",
     "text": [
      "Collecting scikit-learn==1.3.2\n",
      "  Downloading scikit_learn-1.3.2-cp312-cp312-win_amd64.whl.metadata (11 kB)\n",
      "Requirement already satisfied: numpy<2.0,>=1.17.3 in c:\\users\\akhan\\anaconda3\\lib\\site-packages (from scikit-learn==1.3.2) (1.26.4)\n",
      "Requirement already satisfied: scipy>=1.5.0 in c:\\users\\akhan\\anaconda3\\lib\\site-packages (from scikit-learn==1.3.2) (1.13.1)\n",
      "Requirement already satisfied: joblib>=1.1.1 in c:\\users\\akhan\\appdata\\roaming\\python\\python312\\site-packages (from scikit-learn==1.3.2) (1.4.2)\n",
      "Requirement already satisfied: threadpoolctl>=2.0.0 in c:\\users\\akhan\\appdata\\roaming\\python\\python312\\site-packages (from scikit-learn==1.3.2) (3.5.0)\n",
      "Downloading scikit_learn-1.3.2-cp312-cp312-win_amd64.whl (9.1 MB)\n",
      "   ---------------------------------------- 0.0/9.1 MB ? eta -:--:--\n",
      "   ---------------------------------------- 0.0/9.1 MB ? eta -:--:--\n",
      "   - -------------------------------------- 0.3/9.1 MB ? eta -:--:--\n",
      "   -- ------------------------------------- 0.5/9.1 MB 1.2 MB/s eta 0:00:08\n",
      "   ---- ----------------------------------- 1.0/9.1 MB 1.4 MB/s eta 0:00:06\n",
      "   ----- ---------------------------------- 1.3/9.1 MB 1.4 MB/s eta 0:00:06\n",
      "   -------- ------------------------------- 1.8/9.1 MB 1.6 MB/s eta 0:00:05\n",
      "   ---------- ----------------------------- 2.4/9.1 MB 1.7 MB/s eta 0:00:04\n",
      "   ------------ --------------------------- 2.9/9.1 MB 1.9 MB/s eta 0:00:04\n",
      "   -------------- ------------------------- 3.4/9.1 MB 2.0 MB/s eta 0:00:03\n",
      "   ------------------ --------------------- 4.2/9.1 MB 2.1 MB/s eta 0:00:03\n",
      "   -------------------- ------------------- 4.7/9.1 MB 2.2 MB/s eta 0:00:02\n",
      "   ------------------------ --------------- 5.5/9.1 MB 2.3 MB/s eta 0:00:02\n",
      "   --------------------------- ------------ 6.3/9.1 MB 2.4 MB/s eta 0:00:02\n",
      "   ----------------------------- ---------- 6.8/9.1 MB 2.5 MB/s eta 0:00:01\n",
      "   ------------------------------ --------- 7.1/9.1 MB 2.5 MB/s eta 0:00:01\n",
      "   --------------------------------- ------ 7.6/9.1 MB 2.4 MB/s eta 0:00:01\n",
      "   ----------------------------------- ---- 8.1/9.1 MB 2.3 MB/s eta 0:00:01\n",
      "   ------------------------------------ --- 8.4/9.1 MB 2.3 MB/s eta 0:00:01\n",
      "   ------------------------------------- -- 8.7/9.1 MB 2.3 MB/s eta 0:00:01\n",
      "   ---------------------------------------  8.9/9.1 MB 2.3 MB/s eta 0:00:01\n",
      "   ---------------------------------------- 9.1/9.1 MB 2.2 MB/s eta 0:00:00\n",
      "Installing collected packages: scikit-learn\n",
      "  Attempting uninstall: scikit-learn\n",
      "    Found existing installation: scikit-learn 1.6.1\n",
      "    Uninstalling scikit-learn-1.6.1:\n",
      "      Successfully uninstalled scikit-learn-1.6.1\n",
      "Successfully installed scikit-learn-1.3.2\n"
     ]
    },
    {
     "name": "stderr",
     "output_type": "stream",
     "text": [
      "  WARNING: Failed to remove contents in a temporary directory 'C:\\Users\\akhan\\anaconda3\\Lib\\site-packages\\~klearn'.\n",
      "  You can safely remove it manually.\n"
     ]
    }
   ],
   "source": [
    "!pip install scikit-learn==1.3.2"
   ]
  },
  {
   "cell_type": "code",
   "execution_count": 1,
   "id": "7adab541-d70f-4959-bd1a-5935b2088441",
   "metadata": {},
   "outputs": [],
   "source": [
    "import pandas as pd\n",
    "from sklearn.model_selection import StratifiedKFold, cross_val_score\n",
    "from sklearn.preprocessing import LabelEncoder\n",
    "from sklearn.ensemble import RandomForestClassifier, GradientBoostingClassifier, VotingClassifier\n",
    "from sklearn.linear_model import LogisticRegression\n",
    "from imblearn.over_sampling import SMOTE\n",
    "from imblearn.pipeline import Pipeline\n",
    "import joblib"
   ]
  },
  {
   "cell_type": "code",
   "execution_count": 2,
   "id": "962d0dcb-a7a1-4a4b-8a9b-8bec55a21add",
   "metadata": {},
   "outputs": [],
   "source": [
    "CSV_FILE = 'Obfuscated_train.csv'         # <-- Change to your CSV file\n",
    "TARGET_COLUMN = 'label'"
   ]
  },
  {
   "cell_type": "code",
   "execution_count": 3,
   "id": "acb37695-dc08-454e-9ac7-35392dd0b21b",
   "metadata": {},
   "outputs": [],
   "source": [
    "df = pd.read_csv(CSV_FILE)\n",
    "label_encoders = {}\n",
    "for col in df.columns:\n",
    "    if df[col].dtype == 'object' or df[col].dtype.name == 'category':\n",
    "        le = LabelEncoder()\n",
    "        df[col] = le.fit_transform(df[col].astype(str))\n",
    "        label_encoders[col] = le\n",
    "\n",
    "X = df.drop(TARGET_COLUMN, axis=1)\n",
    "y = df[TARGET_COLUMN]"
   ]
  },
  {
   "cell_type": "code",
   "execution_count": 4,
   "id": "c24cf860-14e7-46ae-9a39-fe2f8a0334d5",
   "metadata": {},
   "outputs": [],
   "source": [
    "clf1 = RandomForestClassifier(n_estimators=100, random_state=42)\n",
    "clf2 = GradientBoostingClassifier(n_estimators=100, random_state=42)\n",
    "clf3 = LogisticRegression(max_iter=2000, random_state=42)\n",
    "ensemble = VotingClassifier(estimators=[\n",
    "    ('rf', clf1),\n",
    "    ('gb', clf2),\n",
    "    ('lr', clf3)\n",
    "], voting='soft')"
   ]
  },
  {
   "cell_type": "code",
   "execution_count": 5,
   "id": "7a6ef2e7-93f1-4e86-8f00-3345ff7fca65",
   "metadata": {},
   "outputs": [],
   "source": [
    "pipeline = Pipeline([\n",
    "    ('smote', SMOTE(random_state=42)),\n",
    "    ('ensemble', ensemble)\n",
    "])\n"
   ]
  },
  {
   "cell_type": "code",
   "execution_count": 6,
   "id": "8820c80e-9e63-4745-8ebc-74bd66e57494",
   "metadata": {},
   "outputs": [
    {
     "name": "stdout",
     "output_type": "stream",
     "text": [
      "5-Fold CV Accuracies: [0.99989334 1.         1.         1.         1.        ]\n",
      "Average CV Accuracy: 1.0000\n"
     ]
    }
   ],
   "source": [
    "cv = StratifiedKFold(n_splits=5, shuffle=True, random_state=42)\n",
    "scores = cross_val_score(pipeline, X, y, cv=cv, scoring='accuracy', n_jobs=1)\n",
    "print(f'5-Fold CV Accuracies: {scores}')\n",
    "print(f'Average CV Accuracy: {scores.mean():.4f}')"
   ]
  },
  {
   "cell_type": "code",
   "execution_count": 7,
   "id": "9cc5234b-16f4-4412-ad55-34b98088f974",
   "metadata": {},
   "outputs": [
    {
     "name": "stdout",
     "output_type": "stream",
     "text": [
      "Model saved as 'obfuscated_model.joblib'\n"
     ]
    }
   ],
   "source": [
    "pipeline.fit(X, y)\n",
    "joblib.dump(pipeline, 'obfuscated_model.joblib')\n",
    "print(\"Model saved as 'obfuscated_model.joblib'\")"
   ]
  },
  {
   "cell_type": "code",
   "execution_count": null,
   "id": "e49dc589-3a4d-4fe8-a152-1accf1ffc30c",
   "metadata": {},
   "outputs": [],
   "source": []
  }
 ],
 "metadata": {
  "kernelspec": {
   "display_name": "Python 3 (ipykernel)",
   "language": "python",
   "name": "python3"
  },
  "language_info": {
   "codemirror_mode": {
    "name": "ipython",
    "version": 3
   },
   "file_extension": ".py",
   "mimetype": "text/x-python",
   "name": "python",
   "nbconvert_exporter": "python",
   "pygments_lexer": "ipython3",
   "version": "3.12.7"
  }
 },
 "nbformat": 4,
 "nbformat_minor": 5
}
